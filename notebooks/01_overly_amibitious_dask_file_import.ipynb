{
 "cells": [
  {
   "cell_type": "markdown",
   "id": "2d867ccf-b8f0-48a5-9eff-665c28f57a3a",
   "metadata": {},
   "source": [
    "# try to parallelize reading in csvs using dask?\n"
   ]
  },
  {
   "cell_type": "code",
   "execution_count": null,
   "id": "8c0d00c7-2620-47c9-a430-521d80b87b94",
   "metadata": {},
   "outputs": [],
   "source": [
    "import dask\n",
    "from dask import delayed\n",
    "import dask.dataframe as dd\n",
    "from dask.distributed import Client, LocalCluster, progress\n",
    "import re\n",
    "import os\n",
    "from scripts import get_tripdata\n",
    "import zipfile"
   ]
  },
  {
   "cell_type": "code",
   "execution_count": null,
   "id": "c8054051-d1c1-4c06-b97f-56b9178d024c",
   "metadata": {},
   "outputs": [],
   "source": [
    "try:\n",
    "    client\n",
    "except NameError:\n",
    "    print(\"client does not exist!\")\n",
    "    # create LocalCluster w/ dask\n",
    "    cluster = LocalCluster()\n",
    "    client = Client(cluster)\n",
    "    # then look at diagnostic dash here http://localhost:8787/status or http://127.0.0.1:8787/status"
   ]
  },
  {
   "cell_type": "code",
   "execution_count": null,
   "id": "cb0fcae4-5faf-4fb3-a9f8-3f8fc1a6a63a",
   "metadata": {},
   "outputs": [],
   "source": [
    "cluster"
   ]
  },
  {
   "cell_type": "code",
   "execution_count": null,
   "id": "71970ab2-ad9f-41da-b3b0-34191af0215c",
   "metadata": {},
   "outputs": [],
   "source": [
    "client\n",
    "# client.shutdown()\n",
    "# client.close()\n",
    "# cluster.close()"
   ]
  },
  {
   "cell_type": "code",
   "execution_count": null,
   "id": "eca5841c-1062-48a7-b4b1-07d27f83c7de",
   "metadata": {},
   "outputs": [],
   "source": [
    "def unzip(item, zip_dir):\n",
    "    \"\"\"Unzips files\n",
    "    Returns:\n",
    "        Nothing\n",
    "    \"\"\"\n",
    "    extension = \".zip\"\n",
    "    file_name = delayed()\n",
    "    if item.endswith(extension):\n",
    "        # create zipfile object and extract\n",
    "        file_name = zip_dir + item\n",
    "        with zipfile.ZipFile(file_name, \"r\") as zip_ref:\n",
    "            zip_ref.extractall(zip_dir)\n",
    "            unzipped = (zip_ref.namelist()[0]).replace(\" \", \"\").lower()\n",
    "            os.rename(f'{zip_dir}{zip_ref.namelist()[0]}', f'{zip_dir}{unzipped}')\n",
    "        return unzipped\n",
    "\n",
    "def get_list_of_files(x):\n",
    "    return x\n",
    "\n",
    "def clean_filenames(unzipped, zip_dir):\n",
    "    if unzipped.endswith(\".csv\"):\n",
    "        # check if name is formatted as YYYYMM-citibike-tripdata.csv\n",
    "        if zip_dir == \"../data/citibike-tripdata-jc/\":\n",
    "            result = re.match(r\"jc-[0-9]{6}-citibike-tripdata.csv\", unzipped)\n",
    "            if not result: \n",
    "                print(f\"{unzipped} does not match, changing name\")\n",
    "                yearmonth = re.findall(r'\\d+', unzipped)[0]\n",
    "                new_item_name = \"jc-\" + yearmonth + \"-citibike-tripdata.csv\"\n",
    "                os.rename(f\"{zip_dir}{unzipped}\", f\"{zip_dir}{new_item_name}\")\n",
    "        else: \n",
    "            result = re.match(r\"[0-9]{6}-citibike-tripdata.csv\", unzipped)\n",
    "            if not result: \n",
    "                print(f\"{unzipped} does not match, changing name\")\n",
    "                yearmonth = re.findall(r'\\d+', unzipped)\n",
    "                yearmonth = \"\".join(str(i) for i in re.findall(r'\\d+', unzipped))\n",
    "                new_item_name = yearmonth + \"-citibike-tripdata.csv\"\n",
    "                os.rename(f\"{zip_dir}{unzipped}\", f\"{zip_dir}{new_item_name}\")"
   ]
  },
  {
   "cell_type": "markdown",
   "id": "084d5931-d7d3-4b94-bcb2-70876eef0170",
   "metadata": {},
   "source": [
    "## attempt 1"
   ]
  },
  {
   "cell_type": "code",
   "execution_count": null,
   "id": "833f5e79-4ddf-4364-9c1b-bf40f9d623af",
   "metadata": {},
   "outputs": [],
   "source": [
    "## this syntax is wrong for some reason. also slow\n",
    "%%time\n",
    "filelist = os.listdir(zip_dir)\n",
    "zip_dir = \"../data/citibike-tripdata-nyc/\"\n",
    "for item in filelist:\n",
    "    lazy_unzip = unzip(item, zip_dir)"
   ]
  },
  {
   "cell_type": "code",
   "execution_count": null,
   "id": "0f608ccf-e0f4-451f-a481-e790844f8220",
   "metadata": {},
   "outputs": [],
   "source": [
    "%time \n",
    "dask.compute(*lazy_unzip)"
   ]
  },
  {
   "cell_type": "code",
   "execution_count": null,
   "id": "ec166f50-e3d3-48f7-b572-6145bc816a52",
   "metadata": {},
   "outputs": [],
   "source": [
    "lazy_unzip.visualize()"
   ]
  },
  {
   "cell_type": "markdown",
   "id": "8689a75e-3914-4403-8b68-e33b07a63417",
   "metadata": {},
   "source": [
    "## attempt 1a"
   ]
  },
  {
   "cell_type": "code",
   "execution_count": null,
   "id": "c8b6d227-a923-42a2-9a39-3c7110ba029d",
   "metadata": {},
   "outputs": [],
   "source": [
    "## run it\n",
    "%%time\n",
    "filelist = os.listdir(zip_dir)\n",
    "zip_dir = \"../data/citibike-tripdata-nyc/\"\n",
    "for item in filelist:\n",
    "    lazy_unzip = unzip(item, zip_dir).compute()"
   ]
  },
  {
   "cell_type": "markdown",
   "id": "5c7ff655-d2ed-40ce-bdb9-62ea050941f7",
   "metadata": {},
   "source": [
    "## attempt 2"
   ]
  },
  {
   "cell_type": "code",
   "execution_count": null,
   "id": "947cb18f-a74c-452c-b56f-9b13ceaf8772",
   "metadata": {},
   "outputs": [],
   "source": [
    "# note: this doesn't work\n",
    "# note: client.map submits many function calls\n",
    "\n",
    "\n",
    "## NYC\n",
    "# get_file_list = client.map(os.listdir, \"data/citibike-tripdata-nyc/\")\n",
    "unzipped_nyc_files = client.map(unzip, [os.listdir(\"../data/citibike-tripdata-nyc/\")], [\"../data/citibike-tripdata-nyc/\"])\n",
    "clean_nyc = client.map(clean_filenames, [os.listdir(\"../data/citibike-tripdata-nyc/\")], [\"../data/citibike-tripdata-nyc/\"])\n",
    "\n",
    "## Jersey City\n",
    "# unzipped_jc_files = client.map(unzip, os.listdir(\"data/citibike-tripdata-jc/\"), \"data/citibike-tripdata-jc/\")\n",
    "# clean_jc = client.map(clean_filenames, unzipped_jc_files, \"data/citibike-tripdata-jc/\")\n",
    "\n",
    "client.gather(unzipped_nyc_files) # gather for many futures\n"
   ]
  }
 ],
 "metadata": {
  "kernelspec": {
   "display_name": "Python 3",
   "language": "python",
   "name": "python3"
  },
  "language_info": {
   "codemirror_mode": {
    "name": "ipython",
    "version": 3
   },
   "file_extension": ".py",
   "mimetype": "text/x-python",
   "name": "python",
   "nbconvert_exporter": "python",
   "pygments_lexer": "ipython3",
   "version": "3.6.5"
  }
 },
 "nbformat": 4,
 "nbformat_minor": 5
}
