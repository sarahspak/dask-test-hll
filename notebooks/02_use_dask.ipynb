{
 "cells": [
  {
   "cell_type": "markdown",
   "id": "80f3de2f-5ba5-4b6d-a1dd-b06dd588bd49",
   "metadata": {},
   "source": [
    "# using dask to handle a lot of data\n"
   ]
  },
  {
   "cell_type": "code",
   "execution_count": 43,
   "id": "1c76e826-efbd-4a2f-a73e-78440bf616ae",
   "metadata": {
    "execution": {
     "iopub.execute_input": "2021-07-01T02:47:52.960002Z",
     "iopub.status.busy": "2021-07-01T02:47:52.959778Z",
     "iopub.status.idle": "2021-07-01T02:47:52.963648Z",
     "shell.execute_reply": "2021-07-01T02:47:52.962991Z",
     "shell.execute_reply.started": "2021-07-01T02:47:52.959980Z"
    },
    "tags": []
   },
   "outputs": [],
   "source": [
    "import dask\n",
    "from dask.diagnostics import ProgressBar\n",
    "import dask.dataframe as dd\n",
    "from dask.distributed import Client, LocalCluster, progress\n",
    "import us\n",
    "import os\n",
    "import numpy as np"
   ]
  },
  {
   "cell_type": "code",
   "execution_count": 58,
   "id": "1f2bd395-1ab3-4c0b-9f6c-f0de4ef4f43a",
   "metadata": {
    "execution": {
     "iopub.execute_input": "2021-07-01T02:55:12.884036Z",
     "iopub.status.busy": "2021-07-01T02:55:12.883681Z",
     "iopub.status.idle": "2021-07-01T02:55:12.887839Z",
     "shell.execute_reply": "2021-07-01T02:55:12.886766Z",
     "shell.execute_reply.started": "2021-07-01T02:55:12.883998Z"
    },
    "tags": []
   },
   "outputs": [],
   "source": [
    "# total_mb = 0\n"
   ]
  },
  {
   "cell_type": "code",
   "execution_count": 63,
   "id": "55bb69ae-9d46-43b4-8709-487b9adde2b2",
   "metadata": {
    "execution": {
     "iopub.execute_input": "2021-07-01T02:56:03.223634Z",
     "iopub.status.busy": "2021-07-01T02:56:03.223324Z",
     "iopub.status.idle": "2021-07-01T02:56:03.231203Z",
     "shell.execute_reply": "2021-07-01T02:56:03.230381Z",
     "shell.execute_reply.started": "2021-07-01T02:56:03.223603Z"
    },
    "tags": []
   },
   "outputs": [
    {
     "name": "stdout",
     "output_type": "stream",
     "text": [
      "22.452526791 in gb\n"
     ]
    }
   ],
   "source": [
    "total = 0\n",
    "for file in os.listdir(\"../data/citibike-tripdata-nyc/\"): \n",
    "    if file.endswith(\".csv\"):\n",
    "        file_stats = os.stat(f\"../data/citibike-tripdata-nyc/{file}\")\n",
    "        total_mb = round(file_stats.st_size)\n",
    "#         print(f'{file} is {total_mb} mb')\n",
    "        total +=total_mb\n",
    "print(str(total/1e9) + \" in gb\")"
   ]
  },
  {
   "cell_type": "code",
   "execution_count": 64,
   "id": "63452d3c-c59f-427e-a309-7701aaaa2117",
   "metadata": {
    "execution": {
     "iopub.execute_input": "2021-07-01T03:00:26.880473Z",
     "iopub.status.busy": "2021-07-01T03:00:26.880166Z",
     "iopub.status.idle": "2021-07-01T03:00:26.884777Z",
     "shell.execute_reply": "2021-07-01T03:00:26.883815Z",
     "shell.execute_reply.started": "2021-07-01T03:00:26.880445Z"
    },
    "tags": []
   },
   "outputs": [],
   "source": [
    "try:\n",
    "    cluster\n",
    "except NameError:\n",
    "    # create LocalCluster w/ dask\n",
    "    cluster = LocalCluster()\n",
    "    client = Client(cluster)\n",
    "    # then look at diagnostic dash here http://localhost:8787/status or http://127.0.0.1:8787/status\n",
    "    client\n",
    "    # # to turn off\n",
    "    # client.shutdown()"
   ]
  },
  {
   "cell_type": "code",
   "execution_count": 65,
   "id": "198103c6-f7e5-4c25-9eb0-452d87470d93",
   "metadata": {
    "execution": {
     "iopub.execute_input": "2021-07-01T03:00:27.887252Z",
     "iopub.status.busy": "2021-07-01T03:00:27.886950Z",
     "iopub.status.idle": "2021-07-01T03:00:27.892856Z",
     "shell.execute_reply": "2021-07-01T03:00:27.892196Z",
     "shell.execute_reply.started": "2021-07-01T03:00:27.887221Z"
    },
    "tags": []
   },
   "outputs": [
    {
     "data": {
      "text/html": [
       "<table style=\"border: 2px solid white;\">\n",
       "<tr>\n",
       "<td style=\"vertical-align: top; border: 0px solid white\">\n",
       "<h3 style=\"text-align: left;\">Client</h3>\n",
       "<ul style=\"text-align: left; list-style: none; margin: 0; padding: 0;\">\n",
       "  <li><b>Scheduler: </b>tcp://127.0.0.1:52383</li>\n",
       "  <li><b>Dashboard: </b><a href='http://127.0.0.1:8787/status' target='_blank'>http://127.0.0.1:8787/status</a></li>\n",
       "</ul>\n",
       "</td>\n",
       "<td style=\"vertical-align: top; border: 0px solid white\">\n",
       "<h3 style=\"text-align: left;\">Cluster</h3>\n",
       "<ul style=\"text-align: left; list-style:none; margin: 0; padding: 0;\">\n",
       "  <li><b>Workers: </b>4</li>\n",
       "  <li><b>Cores: </b>16</li>\n",
       "  <li><b>Memory: </b>68.72 GB</li>\n",
       "</ul>\n",
       "</td>\n",
       "</tr>\n",
       "</table>"
      ],
      "text/plain": [
       "<Client: 'tcp://127.0.0.1:52383' processes=4 threads=16, memory=68.72 GB>"
      ]
     },
     "execution_count": 65,
     "metadata": {},
     "output_type": "execute_result"
    }
   ],
   "source": [
    "client"
   ]
  },
  {
   "cell_type": "code",
   "execution_count": 66,
   "id": "2f411401-635a-4b87-89c1-c9e8143aa9b8",
   "metadata": {
    "execution": {
     "iopub.execute_input": "2021-07-01T03:00:28.883908Z",
     "iopub.status.busy": "2021-07-01T03:00:28.883542Z",
     "iopub.status.idle": "2021-07-01T03:00:28.890681Z",
     "shell.execute_reply": "2021-07-01T03:00:28.889621Z",
     "shell.execute_reply.started": "2021-07-01T03:00:28.883868Z"
    },
    "tags": []
   },
   "outputs": [],
   "source": [
    "# combine files\n",
    "@dask.delayed\n",
    "def read_files(csv_dir):\n",
    "    combined_df = []\n",
    "    for item in os.listdir(csv_dir):\n",
    "        if item.endswith(\".csv\"):\n",
    "            file_name = csv_dir + item\n",
    "            print(file_name)\n",
    "            df = dd.read_csv(file_name, assume_missing=True, dtype={'end_station_id': 'object', 'start_station_id': 'object'})\n",
    "            combined_df.append(df)\n",
    "    combined_df = dd.concat(combined_df)\n",
    "    return combined_df"
   ]
  },
  {
   "cell_type": "code",
   "execution_count": 67,
   "id": "5d1b0af0-271e-49df-9d5c-a36f9c3e7de6",
   "metadata": {
    "execution": {
     "iopub.execute_input": "2021-07-01T03:00:35.090448Z",
     "iopub.status.busy": "2021-07-01T03:00:35.090177Z",
     "iopub.status.idle": "2021-07-01T03:00:35.104737Z",
     "shell.execute_reply": "2021-07-01T03:00:35.103961Z",
     "shell.execute_reply.started": "2021-07-01T03:00:35.090421Z"
    },
    "tags": []
   },
   "outputs": [
    {
     "data": {
      "application/vnd.jupyter.widget-view+json": {
       "model_id": "510af4a603e746918e02c1afa8b1430b",
       "version_major": 2,
       "version_minor": 0
      },
      "text/plain": [
       "VBox()"
      ]
     },
     "metadata": {},
     "output_type": "display_data"
    }
   ],
   "source": [
    "future_nyc_citibike = client.compute(read_files(\"../data/citibike-tripdata-nyc/\"))\n",
    "progress(future_nyc_citibike)"
   ]
  },
  {
   "cell_type": "code",
   "execution_count": 68,
   "id": "528e7b18-d6ca-42c0-b18b-6606b98a7d1c",
   "metadata": {
    "execution": {
     "iopub.execute_input": "2021-07-01T03:00:41.915773Z",
     "iopub.status.busy": "2021-07-01T03:00:41.915505Z",
     "iopub.status.idle": "2021-07-01T03:00:41.920686Z",
     "shell.execute_reply": "2021-07-01T03:00:41.920055Z",
     "shell.execute_reply.started": "2021-07-01T03:00:41.915746Z"
    },
    "tags": []
   },
   "outputs": [
    {
     "data": {
      "text/html": [
       "<b>Future: read_files</b> <font color=\"gray\">status: </font><font color=\"black\">finished</font>, <font color=\"gray\">type: </font>dask.DataFrame, <font color=\"gray\">key: </font>read_files-fc33a173-c6b1-4093-9aac-f5e55561d4a1"
      ],
      "text/plain": [
       "<Future: finished, type: dask.DataFrame, key: read_files-fc33a173-c6b1-4093-9aac-f5e55561d4a1>"
      ]
     },
     "execution_count": 68,
     "metadata": {},
     "output_type": "execute_result"
    }
   ],
   "source": [
    "future_nyc_citibike"
   ]
  },
  {
   "cell_type": "code",
   "execution_count": 69,
   "id": "f4fadcf3-f2e1-41a9-998f-9b6841e62886",
   "metadata": {
    "execution": {
     "iopub.execute_input": "2021-07-01T03:00:42.884619Z",
     "iopub.status.busy": "2021-07-01T03:00:42.884268Z",
     "iopub.status.idle": "2021-07-01T03:00:43.919948Z",
     "shell.execute_reply": "2021-07-01T03:00:43.919003Z",
     "shell.execute_reply.started": "2021-07-01T03:00:42.884577Z"
    },
    "tags": []
   },
   "outputs": [
    {
     "data": {
      "text/html": [
       "<div>\n",
       "<style scoped>\n",
       "    .dataframe tbody tr th:only-of-type {\n",
       "        vertical-align: middle;\n",
       "    }\n",
       "\n",
       "    .dataframe tbody tr th {\n",
       "        vertical-align: top;\n",
       "    }\n",
       "\n",
       "    .dataframe thead th {\n",
       "        text-align: right;\n",
       "    }\n",
       "</style>\n",
       "<table border=\"1\" class=\"dataframe\">\n",
       "  <thead>\n",
       "    <tr style=\"text-align: right;\">\n",
       "      <th></th>\n",
       "      <th>tripduration</th>\n",
       "      <th>starttime</th>\n",
       "      <th>stoptime</th>\n",
       "      <th>start station id</th>\n",
       "      <th>start station name</th>\n",
       "      <th>start station latitude</th>\n",
       "      <th>start station longitude</th>\n",
       "      <th>end station id</th>\n",
       "      <th>end station name</th>\n",
       "      <th>end station latitude</th>\n",
       "      <th>...</th>\n",
       "      <th>Start Station Latitude</th>\n",
       "      <th>Start Station Longitude</th>\n",
       "      <th>End Station ID</th>\n",
       "      <th>End Station Name</th>\n",
       "      <th>End Station Latitude</th>\n",
       "      <th>End Station Longitude</th>\n",
       "      <th>Bike ID</th>\n",
       "      <th>User Type</th>\n",
       "      <th>Birth Year</th>\n",
       "      <th>Gender</th>\n",
       "    </tr>\n",
       "  </thead>\n",
       "  <tbody>\n",
       "    <tr>\n",
       "      <th>0</th>\n",
       "      <td>362.0</td>\n",
       "      <td>2017-09-01 00:00:17</td>\n",
       "      <td>2017-09-01 00:06:19</td>\n",
       "      <td>3331.0</td>\n",
       "      <td>Riverside Dr &amp; W 104 St</td>\n",
       "      <td>40.801343</td>\n",
       "      <td>-73.971146</td>\n",
       "      <td>3328.0</td>\n",
       "      <td>W 100 St &amp; Manhattan Ave</td>\n",
       "      <td>40.795000</td>\n",
       "      <td>...</td>\n",
       "      <td>NaN</td>\n",
       "      <td>NaN</td>\n",
       "      <td>NaN</td>\n",
       "      <td>NaN</td>\n",
       "      <td>NaN</td>\n",
       "      <td>NaN</td>\n",
       "      <td>NaN</td>\n",
       "      <td>NaN</td>\n",
       "      <td>NaN</td>\n",
       "      <td>NaN</td>\n",
       "    </tr>\n",
       "    <tr>\n",
       "      <th>1</th>\n",
       "      <td>188.0</td>\n",
       "      <td>2017-09-01 00:00:21</td>\n",
       "      <td>2017-09-01 00:03:30</td>\n",
       "      <td>3101.0</td>\n",
       "      <td>N 12 St &amp; Bedford Ave</td>\n",
       "      <td>40.720798</td>\n",
       "      <td>-73.954847</td>\n",
       "      <td>3100.0</td>\n",
       "      <td>Nassau Ave &amp; Newell St</td>\n",
       "      <td>40.724813</td>\n",
       "      <td>...</td>\n",
       "      <td>NaN</td>\n",
       "      <td>NaN</td>\n",
       "      <td>NaN</td>\n",
       "      <td>NaN</td>\n",
       "      <td>NaN</td>\n",
       "      <td>NaN</td>\n",
       "      <td>NaN</td>\n",
       "      <td>NaN</td>\n",
       "      <td>NaN</td>\n",
       "      <td>NaN</td>\n",
       "    </tr>\n",
       "  </tbody>\n",
       "</table>\n",
       "<p>2 rows × 43 columns</p>\n",
       "</div>"
      ],
      "text/plain": [
       "   tripduration            starttime             stoptime  start station id  \\\n",
       "0         362.0  2017-09-01 00:00:17  2017-09-01 00:06:19            3331.0   \n",
       "1         188.0  2017-09-01 00:00:21  2017-09-01 00:03:30            3101.0   \n",
       "\n",
       "        start station name  start station latitude  start station longitude  \\\n",
       "0  Riverside Dr & W 104 St               40.801343               -73.971146   \n",
       "1    N 12 St & Bedford Ave               40.720798               -73.954847   \n",
       "\n",
       "   end station id          end station name  end station latitude  ...  \\\n",
       "0          3328.0  W 100 St & Manhattan Ave             40.795000  ...   \n",
       "1          3100.0    Nassau Ave & Newell St             40.724813  ...   \n",
       "\n",
       "   Start Station Latitude  Start Station Longitude End Station ID  \\\n",
       "0                     NaN                      NaN            NaN   \n",
       "1                     NaN                      NaN            NaN   \n",
       "\n",
       "  End Station Name  End Station Latitude End Station Longitude Bike ID  \\\n",
       "0              NaN                   NaN                   NaN     NaN   \n",
       "1              NaN                   NaN                   NaN     NaN   \n",
       "\n",
       "  User Type Birth Year Gender  \n",
       "0       NaN        NaN    NaN  \n",
       "1       NaN        NaN    NaN  \n",
       "\n",
       "[2 rows x 43 columns]"
      ]
     },
     "execution_count": 69,
     "metadata": {},
     "output_type": "execute_result"
    }
   ],
   "source": [
    "nyc_df = future_nyc_citibike.result()\n",
    "nyc_df.head(2)"
   ]
  },
  {
   "cell_type": "code",
   "execution_count": 25,
   "id": "e6d9c869-ec0a-4238-a1ba-b41e864925f1",
   "metadata": {
    "execution": {
     "iopub.execute_input": "2021-06-30T00:47:47.828386Z",
     "iopub.status.busy": "2021-06-30T00:47:47.828146Z",
     "iopub.status.idle": "2021-06-30T00:47:47.839928Z",
     "shell.execute_reply": "2021-06-30T00:47:47.839289Z",
     "shell.execute_reply.started": "2021-06-30T00:47:47.828361Z"
    },
    "tags": []
   },
   "outputs": [
    {
     "data": {
      "application/vnd.jupyter.widget-view+json": {
       "model_id": "ca820fbe4fea47a883219f6dca9f0f23",
       "version_major": 2,
       "version_minor": 0
      },
      "text/plain": [
       "VBox()"
      ]
     },
     "metadata": {},
     "output_type": "display_data"
    }
   ],
   "source": [
    "future_jc_citibike = client.compute(read_files(\"../data/citibike-tripdata-jc/\"))\n",
    "progress(future_jc_citibike)"
   ]
  },
  {
   "cell_type": "code",
   "execution_count": 27,
   "id": "d1533474-e867-42d4-bf62-91a3c5c5e5a1",
   "metadata": {
    "execution": {
     "iopub.execute_input": "2021-06-30T00:49:18.407657Z",
     "iopub.status.busy": "2021-06-30T00:49:18.407240Z",
     "iopub.status.idle": "2021-06-30T00:50:51.763799Z",
     "shell.execute_reply": "2021-06-30T00:50:51.763117Z",
     "shell.execute_reply.started": "2021-06-30T00:49:18.407613Z"
    },
    "tags": []
   },
   "outputs": [
    {
     "name": "stdout",
     "output_type": "stream",
     "text": [
      "CPU times: user 6.54 s, sys: 747 ms, total: 7.29 s\n",
      "Wall time: 1min 33s\n"
     ]
    },
    {
     "data": {
      "text/plain": [
       "119519535"
      ]
     },
     "execution_count": 27,
     "metadata": {},
     "output_type": "execute_result"
    }
   ],
   "source": [
    "%%time \n",
    "# checkout missing data situation \n",
    "# len(nyc_df['starttime'])\n",
    "len(nyc_df.index)"
   ]
  },
  {
   "cell_type": "code",
   "execution_count": 70,
   "id": "c8d85686-798e-4c66-9486-666ffc7ecee4",
   "metadata": {
    "execution": {
     "iopub.execute_input": "2021-07-01T03:00:47.024804Z",
     "iopub.status.busy": "2021-07-01T03:00:47.024569Z",
     "iopub.status.idle": "2021-07-01T03:16:43.397039Z",
     "shell.execute_reply": "2021-07-01T03:16:43.393756Z",
     "shell.execute_reply.started": "2021-07-01T03:00:47.024780Z"
    },
    "tags": []
   },
   "outputs": [
    {
     "name": "stderr",
     "output_type": "stream",
     "text": [
      "distributed.nanny - WARNING - Worker exceeded 95% memory budget. Restarting\n",
      "distributed.nanny - WARNING - Restarting worker\n",
      "distributed.nanny - WARNING - Worker exceeded 95% memory budget. Restarting\n",
      "distributed.nanny - WARNING - Restarting worker\n",
      "distributed.nanny - WARNING - Worker exceeded 95% memory budget. Restarting\n",
      "distributed.nanny - WARNING - Restarting worker\n",
      "distributed.nanny - WARNING - Worker exceeded 95% memory budget. Restarting\n",
      "distributed.nanny - WARNING - Restarting worker\n",
      "distributed.nanny - WARNING - Worker exceeded 95% memory budget. Restarting\n",
      "distributed.nanny - WARNING - Restarting worker\n",
      "distributed.nanny - WARNING - Worker exceeded 95% memory budget. Restarting\n",
      "distributed.nanny - WARNING - Restarting worker\n",
      "distributed.nanny - WARNING - Worker exceeded 95% memory budget. Restarting\n",
      "distributed.nanny - WARNING - Restarting worker\n"
     ]
    },
    {
     "ename": "KilledWorker",
     "evalue": "(\"('dataframe-groupby-count-combine-136a8dfca7804d3cf11d2f2bbca131ae', 2, 4, 0)\", <Worker 'tcp://127.0.0.1:53039', name: 0, memory: 0, processing: 9>)",
     "output_type": "error",
     "traceback": [
      "\u001b[0;31m---------------------------------------------------------------------------\u001b[0m",
      "\u001b[0;31mKilledWorker\u001b[0m                              Traceback (most recent call last)",
      "\u001b[0;32m<timed eval>\u001b[0m in \u001b[0;36m<module>\u001b[0;34m\u001b[0m\n",
      "\u001b[0;32m~/.pyenv/versions/3.6.5/envs/hsiling/lib/python3.6/site-packages/dask/base.py\u001b[0m in \u001b[0;36mcompute\u001b[0;34m(self, **kwargs)\u001b[0m\n\u001b[1;32m    281\u001b[0m         \u001b[0mdask\u001b[0m\u001b[0;34m.\u001b[0m\u001b[0mbase\u001b[0m\u001b[0;34m.\u001b[0m\u001b[0mcompute\u001b[0m\u001b[0;34m\u001b[0m\u001b[0m\n\u001b[1;32m    282\u001b[0m         \"\"\"\n\u001b[0;32m--> 283\u001b[0;31m         \u001b[0;34m(\u001b[0m\u001b[0mresult\u001b[0m\u001b[0;34m,\u001b[0m\u001b[0;34m)\u001b[0m \u001b[0;34m=\u001b[0m \u001b[0mcompute\u001b[0m\u001b[0;34m(\u001b[0m\u001b[0mself\u001b[0m\u001b[0;34m,\u001b[0m \u001b[0mtraverse\u001b[0m\u001b[0;34m=\u001b[0m\u001b[0;32mFalse\u001b[0m\u001b[0;34m,\u001b[0m \u001b[0;34m**\u001b[0m\u001b[0mkwargs\u001b[0m\u001b[0;34m)\u001b[0m\u001b[0;34m\u001b[0m\u001b[0m\n\u001b[0m\u001b[1;32m    284\u001b[0m         \u001b[0;32mreturn\u001b[0m \u001b[0mresult\u001b[0m\u001b[0;34m\u001b[0m\u001b[0m\n\u001b[1;32m    285\u001b[0m \u001b[0;34m\u001b[0m\u001b[0m\n",
      "\u001b[0;32m~/.pyenv/versions/3.6.5/envs/hsiling/lib/python3.6/site-packages/dask/base.py\u001b[0m in \u001b[0;36mcompute\u001b[0;34m(*args, **kwargs)\u001b[0m\n\u001b[1;32m    563\u001b[0m         \u001b[0mpostcomputes\u001b[0m\u001b[0;34m.\u001b[0m\u001b[0mappend\u001b[0m\u001b[0;34m(\u001b[0m\u001b[0mx\u001b[0m\u001b[0;34m.\u001b[0m\u001b[0m__dask_postcompute__\u001b[0m\u001b[0;34m(\u001b[0m\u001b[0;34m)\u001b[0m\u001b[0;34m)\u001b[0m\u001b[0;34m\u001b[0m\u001b[0m\n\u001b[1;32m    564\u001b[0m \u001b[0;34m\u001b[0m\u001b[0m\n\u001b[0;32m--> 565\u001b[0;31m     \u001b[0mresults\u001b[0m \u001b[0;34m=\u001b[0m \u001b[0mschedule\u001b[0m\u001b[0;34m(\u001b[0m\u001b[0mdsk\u001b[0m\u001b[0;34m,\u001b[0m \u001b[0mkeys\u001b[0m\u001b[0;34m,\u001b[0m \u001b[0;34m**\u001b[0m\u001b[0mkwargs\u001b[0m\u001b[0;34m)\u001b[0m\u001b[0;34m\u001b[0m\u001b[0m\n\u001b[0m\u001b[1;32m    566\u001b[0m     \u001b[0;32mreturn\u001b[0m \u001b[0mrepack\u001b[0m\u001b[0;34m(\u001b[0m\u001b[0;34m[\u001b[0m\u001b[0mf\u001b[0m\u001b[0;34m(\u001b[0m\u001b[0mr\u001b[0m\u001b[0;34m,\u001b[0m \u001b[0;34m*\u001b[0m\u001b[0ma\u001b[0m\u001b[0;34m)\u001b[0m \u001b[0;32mfor\u001b[0m \u001b[0mr\u001b[0m\u001b[0;34m,\u001b[0m \u001b[0;34m(\u001b[0m\u001b[0mf\u001b[0m\u001b[0;34m,\u001b[0m \u001b[0ma\u001b[0m\u001b[0;34m)\u001b[0m \u001b[0;32min\u001b[0m \u001b[0mzip\u001b[0m\u001b[0;34m(\u001b[0m\u001b[0mresults\u001b[0m\u001b[0;34m,\u001b[0m \u001b[0mpostcomputes\u001b[0m\u001b[0;34m)\u001b[0m\u001b[0;34m]\u001b[0m\u001b[0;34m)\u001b[0m\u001b[0;34m\u001b[0m\u001b[0m\n\u001b[1;32m    567\u001b[0m \u001b[0;34m\u001b[0m\u001b[0m\n",
      "\u001b[0;32m~/.pyenv/versions/3.6.5/envs/hsiling/lib/python3.6/site-packages/distributed/client.py\u001b[0m in \u001b[0;36mget\u001b[0;34m(self, dsk, keys, workers, allow_other_workers, resources, sync, asynchronous, direct, retries, priority, fifo_timeout, actors, **kwargs)\u001b[0m\n\u001b[1;32m   2652\u001b[0m                     \u001b[0mshould_rejoin\u001b[0m \u001b[0;34m=\u001b[0m \u001b[0;32mFalse\u001b[0m\u001b[0;34m\u001b[0m\u001b[0m\n\u001b[1;32m   2653\u001b[0m             \u001b[0;32mtry\u001b[0m\u001b[0;34m:\u001b[0m\u001b[0;34m\u001b[0m\u001b[0m\n\u001b[0;32m-> 2654\u001b[0;31m                 \u001b[0mresults\u001b[0m \u001b[0;34m=\u001b[0m \u001b[0mself\u001b[0m\u001b[0;34m.\u001b[0m\u001b[0mgather\u001b[0m\u001b[0;34m(\u001b[0m\u001b[0mpacked\u001b[0m\u001b[0;34m,\u001b[0m \u001b[0masynchronous\u001b[0m\u001b[0;34m=\u001b[0m\u001b[0masynchronous\u001b[0m\u001b[0;34m,\u001b[0m \u001b[0mdirect\u001b[0m\u001b[0;34m=\u001b[0m\u001b[0mdirect\u001b[0m\u001b[0;34m)\u001b[0m\u001b[0;34m\u001b[0m\u001b[0m\n\u001b[0m\u001b[1;32m   2655\u001b[0m             \u001b[0;32mfinally\u001b[0m\u001b[0;34m:\u001b[0m\u001b[0;34m\u001b[0m\u001b[0m\n\u001b[1;32m   2656\u001b[0m                 \u001b[0;32mfor\u001b[0m \u001b[0mf\u001b[0m \u001b[0;32min\u001b[0m \u001b[0mfutures\u001b[0m\u001b[0;34m.\u001b[0m\u001b[0mvalues\u001b[0m\u001b[0;34m(\u001b[0m\u001b[0;34m)\u001b[0m\u001b[0;34m:\u001b[0m\u001b[0;34m\u001b[0m\u001b[0m\n",
      "\u001b[0;32m~/.pyenv/versions/3.6.5/envs/hsiling/lib/python3.6/site-packages/distributed/client.py\u001b[0m in \u001b[0;36mgather\u001b[0;34m(self, futures, errors, direct, asynchronous)\u001b[0m\n\u001b[1;32m   1967\u001b[0m                 \u001b[0mdirect\u001b[0m\u001b[0;34m=\u001b[0m\u001b[0mdirect\u001b[0m\u001b[0;34m,\u001b[0m\u001b[0;34m\u001b[0m\u001b[0m\n\u001b[1;32m   1968\u001b[0m                 \u001b[0mlocal_worker\u001b[0m\u001b[0;34m=\u001b[0m\u001b[0mlocal_worker\u001b[0m\u001b[0;34m,\u001b[0m\u001b[0;34m\u001b[0m\u001b[0m\n\u001b[0;32m-> 1969\u001b[0;31m                 \u001b[0masynchronous\u001b[0m\u001b[0;34m=\u001b[0m\u001b[0masynchronous\u001b[0m\u001b[0;34m,\u001b[0m\u001b[0;34m\u001b[0m\u001b[0m\n\u001b[0m\u001b[1;32m   1970\u001b[0m             )\n\u001b[1;32m   1971\u001b[0m \u001b[0;34m\u001b[0m\u001b[0m\n",
      "\u001b[0;32m~/.pyenv/versions/3.6.5/envs/hsiling/lib/python3.6/site-packages/distributed/client.py\u001b[0m in \u001b[0;36msync\u001b[0;34m(self, func, asynchronous, callback_timeout, *args, **kwargs)\u001b[0m\n\u001b[1;32m    836\u001b[0m         \u001b[0;32melse\u001b[0m\u001b[0;34m:\u001b[0m\u001b[0;34m\u001b[0m\u001b[0m\n\u001b[1;32m    837\u001b[0m             return sync(\n\u001b[0;32m--> 838\u001b[0;31m                 \u001b[0mself\u001b[0m\u001b[0;34m.\u001b[0m\u001b[0mloop\u001b[0m\u001b[0;34m,\u001b[0m \u001b[0mfunc\u001b[0m\u001b[0;34m,\u001b[0m \u001b[0;34m*\u001b[0m\u001b[0margs\u001b[0m\u001b[0;34m,\u001b[0m \u001b[0mcallback_timeout\u001b[0m\u001b[0;34m=\u001b[0m\u001b[0mcallback_timeout\u001b[0m\u001b[0;34m,\u001b[0m \u001b[0;34m**\u001b[0m\u001b[0mkwargs\u001b[0m\u001b[0;34m\u001b[0m\u001b[0m\n\u001b[0m\u001b[1;32m    839\u001b[0m             )\n\u001b[1;32m    840\u001b[0m \u001b[0;34m\u001b[0m\u001b[0m\n",
      "\u001b[0;32m~/.pyenv/versions/3.6.5/envs/hsiling/lib/python3.6/site-packages/distributed/utils.py\u001b[0m in \u001b[0;36msync\u001b[0;34m(loop, func, callback_timeout, *args, **kwargs)\u001b[0m\n\u001b[1;32m    349\u001b[0m     \u001b[0;32mif\u001b[0m \u001b[0merror\u001b[0m\u001b[0;34m[\u001b[0m\u001b[0;36m0\u001b[0m\u001b[0;34m]\u001b[0m\u001b[0;34m:\u001b[0m\u001b[0;34m\u001b[0m\u001b[0m\n\u001b[1;32m    350\u001b[0m         \u001b[0mtyp\u001b[0m\u001b[0;34m,\u001b[0m \u001b[0mexc\u001b[0m\u001b[0;34m,\u001b[0m \u001b[0mtb\u001b[0m \u001b[0;34m=\u001b[0m \u001b[0merror\u001b[0m\u001b[0;34m[\u001b[0m\u001b[0;36m0\u001b[0m\u001b[0;34m]\u001b[0m\u001b[0;34m\u001b[0m\u001b[0m\n\u001b[0;32m--> 351\u001b[0;31m         \u001b[0;32mraise\u001b[0m \u001b[0mexc\u001b[0m\u001b[0;34m.\u001b[0m\u001b[0mwith_traceback\u001b[0m\u001b[0;34m(\u001b[0m\u001b[0mtb\u001b[0m\u001b[0;34m)\u001b[0m\u001b[0;34m\u001b[0m\u001b[0m\n\u001b[0m\u001b[1;32m    352\u001b[0m     \u001b[0;32melse\u001b[0m\u001b[0;34m:\u001b[0m\u001b[0;34m\u001b[0m\u001b[0m\n\u001b[1;32m    353\u001b[0m         \u001b[0;32mreturn\u001b[0m \u001b[0mresult\u001b[0m\u001b[0;34m[\u001b[0m\u001b[0;36m0\u001b[0m\u001b[0;34m]\u001b[0m\u001b[0;34m\u001b[0m\u001b[0m\n",
      "\u001b[0;32m~/.pyenv/versions/3.6.5/envs/hsiling/lib/python3.6/site-packages/distributed/utils.py\u001b[0m in \u001b[0;36mf\u001b[0;34m()\u001b[0m\n\u001b[1;32m    332\u001b[0m             \u001b[0;32mif\u001b[0m \u001b[0mcallback_timeout\u001b[0m \u001b[0;32mis\u001b[0m \u001b[0;32mnot\u001b[0m \u001b[0;32mNone\u001b[0m\u001b[0;34m:\u001b[0m\u001b[0;34m\u001b[0m\u001b[0m\n\u001b[1;32m    333\u001b[0m                 \u001b[0mfuture\u001b[0m \u001b[0;34m=\u001b[0m \u001b[0masyncio\u001b[0m\u001b[0;34m.\u001b[0m\u001b[0mwait_for\u001b[0m\u001b[0;34m(\u001b[0m\u001b[0mfuture\u001b[0m\u001b[0;34m,\u001b[0m \u001b[0mcallback_timeout\u001b[0m\u001b[0;34m)\u001b[0m\u001b[0;34m\u001b[0m\u001b[0m\n\u001b[0;32m--> 334\u001b[0;31m             \u001b[0mresult\u001b[0m\u001b[0;34m[\u001b[0m\u001b[0;36m0\u001b[0m\u001b[0;34m]\u001b[0m \u001b[0;34m=\u001b[0m \u001b[0;32myield\u001b[0m \u001b[0mfuture\u001b[0m\u001b[0;34m\u001b[0m\u001b[0m\n\u001b[0m\u001b[1;32m    335\u001b[0m         \u001b[0;32mexcept\u001b[0m \u001b[0mException\u001b[0m \u001b[0;32mas\u001b[0m \u001b[0mexc\u001b[0m\u001b[0;34m:\u001b[0m\u001b[0;34m\u001b[0m\u001b[0m\n\u001b[1;32m    336\u001b[0m             \u001b[0merror\u001b[0m\u001b[0;34m[\u001b[0m\u001b[0;36m0\u001b[0m\u001b[0;34m]\u001b[0m \u001b[0;34m=\u001b[0m \u001b[0msys\u001b[0m\u001b[0;34m.\u001b[0m\u001b[0mexc_info\u001b[0m\u001b[0;34m(\u001b[0m\u001b[0;34m)\u001b[0m\u001b[0;34m\u001b[0m\u001b[0m\n",
      "\u001b[0;32m~/.pyenv/versions/3.6.5/envs/hsiling/lib/python3.6/site-packages/tornado/gen.py\u001b[0m in \u001b[0;36mrun\u001b[0;34m(self)\u001b[0m\n\u001b[1;32m    760\u001b[0m \u001b[0;34m\u001b[0m\u001b[0m\n\u001b[1;32m    761\u001b[0m                     \u001b[0;32mtry\u001b[0m\u001b[0;34m:\u001b[0m\u001b[0;34m\u001b[0m\u001b[0m\n\u001b[0;32m--> 762\u001b[0;31m                         \u001b[0mvalue\u001b[0m \u001b[0;34m=\u001b[0m \u001b[0mfuture\u001b[0m\u001b[0;34m.\u001b[0m\u001b[0mresult\u001b[0m\u001b[0;34m(\u001b[0m\u001b[0;34m)\u001b[0m\u001b[0;34m\u001b[0m\u001b[0m\n\u001b[0m\u001b[1;32m    763\u001b[0m                     \u001b[0;32mexcept\u001b[0m \u001b[0mException\u001b[0m\u001b[0;34m:\u001b[0m\u001b[0;34m\u001b[0m\u001b[0m\n\u001b[1;32m    764\u001b[0m                         \u001b[0mexc_info\u001b[0m \u001b[0;34m=\u001b[0m \u001b[0msys\u001b[0m\u001b[0;34m.\u001b[0m\u001b[0mexc_info\u001b[0m\u001b[0;34m(\u001b[0m\u001b[0;34m)\u001b[0m\u001b[0;34m\u001b[0m\u001b[0m\n",
      "\u001b[0;32m~/.pyenv/versions/3.6.5/envs/hsiling/lib/python3.6/site-packages/distributed/client.py\u001b[0m in \u001b[0;36m_gather\u001b[0;34m(self, futures, errors, direct, local_worker)\u001b[0m\n\u001b[1;32m   1826\u001b[0m                             \u001b[0mexc\u001b[0m \u001b[0;34m=\u001b[0m \u001b[0mCancelledError\u001b[0m\u001b[0;34m(\u001b[0m\u001b[0mkey\u001b[0m\u001b[0;34m)\u001b[0m\u001b[0;34m\u001b[0m\u001b[0m\n\u001b[1;32m   1827\u001b[0m                         \u001b[0;32melse\u001b[0m\u001b[0;34m:\u001b[0m\u001b[0;34m\u001b[0m\u001b[0m\n\u001b[0;32m-> 1828\u001b[0;31m                             \u001b[0;32mraise\u001b[0m \u001b[0mexception\u001b[0m\u001b[0;34m.\u001b[0m\u001b[0mwith_traceback\u001b[0m\u001b[0;34m(\u001b[0m\u001b[0mtraceback\u001b[0m\u001b[0;34m)\u001b[0m\u001b[0;34m\u001b[0m\u001b[0m\n\u001b[0m\u001b[1;32m   1829\u001b[0m                         \u001b[0;32mraise\u001b[0m \u001b[0mexc\u001b[0m\u001b[0;34m\u001b[0m\u001b[0m\n\u001b[1;32m   1830\u001b[0m                     \u001b[0;32mif\u001b[0m \u001b[0merrors\u001b[0m \u001b[0;34m==\u001b[0m \u001b[0;34m\"skip\"\u001b[0m\u001b[0;34m:\u001b[0m\u001b[0;34m\u001b[0m\u001b[0m\n",
      "\u001b[0;31mKilledWorker\u001b[0m: (\"('dataframe-groupby-count-combine-136a8dfca7804d3cf11d2f2bbca131ae', 2, 4, 0)\", <Worker 'tcp://127.0.0.1:53039', name: 0, memory: 0, processing: 9>)"
     ]
    }
   ],
   "source": [
    "%%time\n",
    "\n",
    "# total trips per month\n",
    "# most popular start station\n",
    "# most popular routes (start + end station)\n",
    "# average trip length by month? by day of week?\n",
    "\n",
    "nyc_df.groupby(['starttime']).count().compute()\n"
   ]
  },
  {
   "cell_type": "code",
   "execution_count": null,
   "id": "ca56fedb-cd99-4dcf-87f7-18b604ee03d6",
   "metadata": {
    "execution": {
     "iopub.status.busy": "2021-06-30T00:40:52.222999Z",
     "iopub.status.idle": "2021-06-30T00:40:52.223736Z",
     "shell.execute_reply": "2021-06-30T00:40:52.223412Z"
    },
    "tags": []
   },
   "outputs": [],
   "source": [
    "# states = [i.abbr for i in us.STATES]\n",
    "# nyc_residents = dd.read_csv(\"../data/covid_19_data.csv\")\n",
    "# final_df = []\n",
    "\n",
    "\n",
    "# for state in states:\n",
    "#     #     maybe you need path as well?\n",
    "#     path = os.getcwd()\n",
    "#     filename = str(path+\"/\"+state+\".csv\")\n",
    "#     current_state_df = dd.read_csv(f\"{filename}\", header=[])\n",
    "#     merge_df = df.merge(left=nyc_residents, right=current_state_df, how=\"inner\", on=['pid', 'addrid'])\n",
    "#     final_df.append(merge_df)\n",
    "# final_df = pd.concat(final_df)\n"
   ]
  },
  {
   "cell_type": "code",
   "execution_count": null,
   "id": "7bb6202f-cf09-4d7d-9384-2a0160bfb008",
   "metadata": {
    "execution": {
     "iopub.status.busy": "2021-06-30T00:40:52.225826Z",
     "iopub.status.idle": "2021-06-30T00:40:52.226439Z",
     "shell.execute_reply": "2021-06-30T00:40:52.226194Z"
    }
   },
   "outputs": [
    {
     "name": "stderr",
     "output_type": "stream",
     "text": [
      "tornado.application - ERROR - Exception in callback functools.partial(<bound method IOLoop._discard_future_result of <tornado.platform.asyncio.AsyncIOMainLoop object at 0x105be53c8>>, <Task finished coro=<MultiProgressBar.listen() done, defined at /Users/spak/.pyenv/versions/3.6.5/envs/hsiling/lib/python3.6/site-packages/distributed/diagnostics/progressbar.py:238> exception=OSError('Timed out trying to connect to tcp://127.0.0.1:52383 after 10 s',)>)\n",
      "Traceback (most recent call last):\n",
      "  File \"/Users/spak/.pyenv/versions/3.6.5/envs/hsiling/lib/python3.6/site-packages/distributed/comm/core.py\", line 288, in connect\n",
      "    timeout=min(intermediate_cap, time_left()),\n",
      "  File \"/Users/spak/.pyenv/versions/3.6.5/lib/python3.6/asyncio/tasks.py\", line 362, in wait_for\n",
      "    raise futures.TimeoutError()\n",
      "concurrent.futures._base.TimeoutError\n",
      "\n",
      "The above exception was the direct cause of the following exception:\n",
      "\n",
      "Traceback (most recent call last):\n",
      "  File \"/Users/spak/.pyenv/versions/3.6.5/envs/hsiling/lib/python3.6/site-packages/tornado/ioloop.py\", line 741, in _run_callback\n",
      "    ret = callback()\n",
      "  File \"/Users/spak/.pyenv/versions/3.6.5/envs/hsiling/lib/python3.6/site-packages/tornado/ioloop.py\", line 765, in _discard_future_result\n",
      "    future.result()\n",
      "  File \"/Users/spak/.pyenv/versions/3.6.5/envs/hsiling/lib/python3.6/site-packages/distributed/diagnostics/progressbar.py\", line 259, in listen\n",
      "    self.scheduler, **(self.client().connection_args if self.client else {})\n",
      "  File \"/Users/spak/.pyenv/versions/3.6.5/envs/hsiling/lib/python3.6/site-packages/distributed/comm/core.py\", line 310, in connect\n",
      "    ) from active_exception\n",
      "OSError: Timed out trying to connect to tcp://127.0.0.1:52383 after 10 s\n"
     ]
    }
   ],
   "source": [
    "# \"https://stackoverflow.com/questions/65619777/display-progress-on-dask-computesomething-call\""
   ]
  }
 ],
 "metadata": {
  "kernelspec": {
   "display_name": "Python 3",
   "language": "python",
   "name": "python3"
  },
  "language_info": {
   "codemirror_mode": {
    "name": "ipython",
    "version": 3
   },
   "file_extension": ".py",
   "mimetype": "text/x-python",
   "name": "python",
   "nbconvert_exporter": "python",
   "pygments_lexer": "ipython3",
   "version": "3.6.5"
  }
 },
 "nbformat": 4,
 "nbformat_minor": 5
}
