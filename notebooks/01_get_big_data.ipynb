{
 "cells": [
  {
   "cell_type": "markdown",
   "id": "872fa9b1-317a-4dc1-aa2e-e3497a56125d",
   "metadata": {},
   "source": [
    "# Get large datasets to play w/ dask"
   ]
  },
  {
   "cell_type": "code",
   "execution_count": 1,
   "id": "c0b8ef5a-dc8f-48dd-bddc-68b03db71d1e",
   "metadata": {
    "execution": {
     "iopub.execute_input": "2021-06-29T19:23:08.676609Z",
     "iopub.status.busy": "2021-06-29T19:23:08.676409Z",
     "iopub.status.idle": "2021-06-29T19:23:09.234718Z",
     "shell.execute_reply": "2021-06-29T19:23:09.234225Z",
     "shell.execute_reply.started": "2021-06-29T19:23:08.676587Z"
    },
    "tags": []
   },
   "outputs": [],
   "source": [
    "import dask\n",
    "import dask.dataframe as dd\n",
    "import re\n",
    "import os\n",
    "import zipfile"
   ]
  },
  {
   "cell_type": "markdown",
   "id": "830ac7e7-f96e-490b-b38a-ac279c37d8aa",
   "metadata": {},
   "source": [
    "## Get dataset from AWS"
   ]
  },
  {
   "cell_type": "code",
   "execution_count": 2,
   "id": "39b68dd0-c963-4324-b10a-7440c0d9bee3",
   "metadata": {
    "execution": {
     "iopub.execute_input": "2021-06-29T19:23:09.236208Z",
     "iopub.status.busy": "2021-06-29T19:23:09.235886Z",
     "iopub.status.idle": "2021-06-29T19:23:09.239178Z",
     "shell.execute_reply": "2021-06-29T19:23:09.238229Z",
     "shell.execute_reply.started": "2021-06-29T19:23:09.236151Z"
    }
   },
   "outputs": [],
   "source": [
    "## download from S3 bucket here https://s3.amazonaws.com/tripdata/index.html\n",
    "## run only once!\n",
    "# !aws s3 cp s3://tripdata ./data/ --recursive"
   ]
  },
  {
   "cell_type": "code",
   "execution_count": 3,
   "id": "8f0053e9-6cfe-4924-9a2b-c6519177ac0b",
   "metadata": {
    "execution": {
     "iopub.execute_input": "2021-06-29T19:23:09.240362Z",
     "iopub.status.busy": "2021-06-29T19:23:09.240132Z",
     "iopub.status.idle": "2021-06-29T19:23:09.248517Z",
     "shell.execute_reply": "2021-06-29T19:23:09.247777Z",
     "shell.execute_reply.started": "2021-06-29T19:23:09.240338Z"
    },
    "tags": []
   },
   "outputs": [],
   "source": [
    "def unzip_and_clean_data(zip_dir):\n",
    "    \"\"\"Unzips Citibike zip files and cleans names\n",
    "    Returns:\n",
    "        Nothing\n",
    "    \"\"\"\n",
    "    extension = \".zip\"\n",
    "    # for each zip file in zip_dir extract data\n",
    "    for item in os.listdir(zip_dir):\n",
    "        if item.endswith(extension):\n",
    "            # create zipfile object and extract\n",
    "            file_name = zip_dir + item\n",
    "            with zipfile.ZipFile(file_name, \"r\") as zip_ref:\n",
    "                zip_ref.extractall(zip_dir)\n",
    "                unzipped = (zip_ref.namelist()[0]).replace(\" \", \"\").lower()\n",
    "                os.rename(f'{zip_dir}{zip_ref.namelist()[0]}', f'{zip_dir}{unzipped}')\n",
    "                if unzipped.endswith(\".csv\"):\n",
    "                    # check if name is formatted as YYYYMM-citibike-tripdata.csv\n",
    "                    if zip_dir == \"../data/citibike-tripdata-jc/\":\n",
    "                        result = re.match(r\"jc-[0-9]{6}-citibike-tripdata.csv\", unzipped)\n",
    "                        if not result: \n",
    "                            print(f\"{unzipped} does not match, changing name\")\n",
    "                            yearmonth = re.findall(r'\\d+', unzipped)[0]\n",
    "                            new_item_name = \"jc-\" + yearmonth + \"-citibike-tripdata.csv\"\n",
    "                            os.rename(f\"{zip_dir}{unzipped}\", f\"{zip_dir}{new_item_name}\")\n",
    "                    else: \n",
    "                        result = re.match(r\"[0-9]{6}-citibike-tripdata.csv\", unzipped)\n",
    "                        if not result: \n",
    "                            print(f\"{unzipped} does not match, changing name\")\n",
    "                            yearmonth = re.findall(r'\\d+', unzipped)\n",
    "                            yearmonth = \"\".join(str(i) for i in re.findall(r'\\d+', unzipped))\n",
    "                            new_item_name = yearmonth + \"-citibike-tripdata.csv\"\n",
    "                            os.rename(f\"{zip_dir}{unzipped}\", f\"{zip_dir}{new_item_name}\")"
   ]
  },
  {
   "cell_type": "code",
   "execution_count": 4,
   "id": "cef42e8f-3fcc-4b2d-9b1a-64c808d6ede5",
   "metadata": {
    "execution": {
     "iopub.execute_input": "2021-06-29T19:23:09.249722Z",
     "iopub.status.busy": "2021-06-29T19:23:09.249484Z",
     "iopub.status.idle": "2021-06-29T19:24:38.723162Z",
     "shell.execute_reply": "2021-06-29T19:24:38.722696Z",
     "shell.execute_reply.started": "2021-06-29T19:23:09.249697Z"
    },
    "tags": []
   },
   "outputs": [
    {
     "name": "stdout",
     "output_type": "stream",
     "text": [
      "2013-09-citibiketripdata.csv does not match, changing name\n",
      "2014-05-citibiketripdata.csv does not match, changing name\n",
      "2014-07-citibiketripdata.csv does not match, changing name\n",
      "2014-01-citibiketripdata.csv does not match, changing name\n",
      "2014-03-citibiketripdata.csv does not match, changing name\n",
      "2013-11-citibiketripdata.csv does not match, changing name\n",
      "2013-07-citibiketripdata.csv does not match, changing name\n",
      "2014-04-citibiketripdata.csv does not match, changing name\n",
      "2013-08-citibiketripdata.csv does not match, changing name\n",
      "2014-06-citibiketripdata.csv does not match, changing name\n",
      "2014-08-citibiketripdata.csv does not match, changing name\n",
      "2013-12-citibiketripdata.csv does not match, changing name\n",
      "2014-02-citibiketripdata.csv does not match, changing name\n",
      "2013-10-citibiketripdata.csv does not match, changing name\n",
      "CPU times: user 1min 13s, sys: 14.4 s, total: 1min 28s\n",
      "Wall time: 1min 29s\n"
     ]
    }
   ],
   "source": [
    "%%time \n",
    "unzip_and_clean_data(\"../data/citibike-tripdata-nyc/\")"
   ]
  },
  {
   "cell_type": "code",
   "execution_count": 5,
   "id": "5234f104-51c9-452d-92f3-d972c55d4b2a",
   "metadata": {
    "execution": {
     "iopub.execute_input": "2021-06-29T19:24:38.724487Z",
     "iopub.status.busy": "2021-06-29T19:24:38.724275Z",
     "iopub.status.idle": "2021-06-29T19:24:39.969253Z",
     "shell.execute_reply": "2021-06-29T19:24:39.968709Z",
     "shell.execute_reply.started": "2021-06-29T19:24:38.724466Z"
    },
    "tags": []
   },
   "outputs": [
    {
     "name": "stdout",
     "output_type": "stream",
     "text": [
      "jc-20161-citibike-tripdata.csv does not match, changing name\n",
      "jc-20163-citibike-tripdata.csv does not match, changing name\n",
      "jc-20162-citibike-tripdata.csv does not match, changing name\n",
      "jc-201708citibike-tripdata.csv does not match, changing name\n",
      "CPU times: user 865 ms, sys: 225 ms, total: 1.09 s\n",
      "Wall time: 1.24 s\n"
     ]
    }
   ],
   "source": [
    "%%time\n",
    "unzip_and_clean_data(\"../data/citibike-tripdata-jc/\")"
   ]
  }
 ],
 "metadata": {
  "kernelspec": {
   "display_name": "Python 3",
   "language": "python",
   "name": "python3"
  },
  "language_info": {
   "codemirror_mode": {
    "name": "ipython",
    "version": 3
   },
   "file_extension": ".py",
   "mimetype": "text/x-python",
   "name": "python",
   "nbconvert_exporter": "python",
   "pygments_lexer": "ipython3",
   "version": "3.6.5"
  }
 },
 "nbformat": 4,
 "nbformat_minor": 5
}
